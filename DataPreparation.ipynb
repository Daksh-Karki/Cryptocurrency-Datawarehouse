{
 "cells": [
  {
   "cell_type": "code",
   "execution_count": null,
   "id": "1ff20c30",
   "metadata": {},
   "outputs": [
    {
     "name": "stderr",
     "output_type": "stream",
     "text": [
      "C:\\Users\\daksh\\AppData\\Local\\Temp\\ipykernel_50040\\1349125322.py:23: DtypeWarning: Columns (15,16) have mixed types. Specify dtype option on import or set low_memory=False.\n",
      "  df = pd.read_csv(INPUT_CSV)\n"
     ]
    },
    {
     "name": "stdout",
     "output_type": "stream",
     "text": [
      "Error while cleaning: local variable 'numeric_cols' referenced before assignment\n"
     ]
    }
   ],
   "source": [
    "from pyspark.sql import SparkSession\n",
    "from pyspark.sql.functions import col, when, abs, round as spark_round\n",
    "from pyspark.sql.types import DoubleType\n",
    "\n",
    "# Initialize Spark session\n",
    "spark = SparkSession.builder \\\n",
    "    .appName(\"Crypto Data Cleaning\") \\\n",
    "    .getOrCreate()\n",
    "\n",
    "# File paths\n",
    "INPUT_CSV = 'crypto_tradinds.csv'\n",
    "OUTPUT_CSV = 'raw_crypto.csv'\n",
    "\n",
    "# Columns to remove\n",
    "columns_to_remove = ['max_supply', 'crypto_type', 'price_btc', 'BTC_price_change_1_day']\n",
    "\n",
    "# Critical columns\n",
    "critical_columns = ['trade_date', 'price_usd', 'crypto_name']\n",
    "\n",
    "# Numeric columns to check\n",
    "numeric_cols = ['volume', 'price_usd', 'market_cap',\n",
    "                'capitalization_change_1_day', 'usd_price_change_1_day']\n",
    "\n",
    "# Data-related fields\n",
    "data_cols = ['platform_name', 'industry_name']\n",
    "\n",
    "# Read CSV\n",
    "df = spark.read.option(\"header\", True).csv(INPUT_CSV)\n",
    "\n",
    "# Drop unnecessary columns\n",
    "for col_name in columns_to_remove:\n",
    "    if col_name in df.columns:\n",
    "        df = df.drop(col_name)\n",
    "\n",
    "# Drop rows with missing critical fields\n",
    "df = df.dropna(subset=[col for col in critical_columns if col in df.columns])\n",
    "\n",
    "# Cast numeric columns to Double\n",
    "for col_name in numeric_cols:\n",
    "    if col_name in df.columns:\n",
    "        df = df.withColumn(col_name, col(col_name).cast(DoubleType()))\n",
    "    else:\n",
    "        print(f\"Skipping missing numeric column: {col_name}\")\n",
    "\n",
    "# Handle 'minable' column\n",
    "if 'minable' in df.columns:\n",
    "    df = df.withColumn('minable', when(col('minable') == 1, True).when(col('minable') == 0, False))\n",
    "\n",
    "# Drop rows with missing numeric values\n",
    "existing_numeric = [col_name for col_name in numeric_cols if col_name in df.columns]\n",
    "df = df.dropna(subset=existing_numeric)\n",
    "\n",
    "# Drop missing platform_name and industry_name rows\n",
    "df = df.dropna(subset=data_cols)\n",
    "\n",
    "# Derived Columns\n",
    "df = df.withColumn('price_change_percentage_usd',(col('usd_price_change_1_day') / (col('price_usd') - col('usd_price_change_1_day'))) * 100)\n",
    "\n",
    "df = df.withColumn('volume_to_market_cap_ratio', col('volume') / col('market_cap'))\n",
    "\n",
    "df = df.withColumn('price_volatility_score',abs(col('usd_price_change_1_day')) / col('price_usd'))\n",
    "\n",
    "df = df.withColumn('is_price_up',when(col('usd_price_change_1_day') > 0, 'True').otherwise('False'))\n",
    "\n",
    "df = df.withColumn('is_cap_up', when(col('capitalization_change_1_day') > 0, 'True').otherwise('False'))\n",
    "\n",
    "df = df.withColumn('is_liquid_token',when(col('volume_to_market_cap_ratio') > 0.1, 'True').otherwise('False'))\n",
    "\n",
    "df = df.withColumn('daily_return_score',(col('usd_price_change_1_day') / col('price_usd')) * 100)\n",
    "\n",
    "# Round all float columns to 3 decimals\n",
    "float_cols = [f.name for f in df.schema.fields if f.dataType.simpleString() in ['double', 'float']]\n",
    "for col_name in float_cols:\n",
    "    df = df.withColumn(col_name, spark_round(col(col_name), 3))\n",
    "\n",
    "# Sort by crypto_name and trade_date\n",
    "if 'crypto_name' in df.columns and 'trade_date' in df.columns:\n",
    "    df = df.orderBy(['crypto_name', 'trade_date'])\n",
    "\n",
    "# Save to CSV\n",
    "df.write.mode(\"overwrite\").option(\"header\", True).csv(OUTPUT_CSV)\n",
    "\n",
    "print(f\"Cleaned file saved to folder: {OUTPUT_CSV}\")"
   ]
  }
 ],
 "metadata": {
  "kernelspec": {
   "display_name": "Python 3",
   "language": "python",
   "name": "python3"
  },
  "language_info": {
   "codemirror_mode": {
    "name": "ipython",
    "version": 3
   },
   "file_extension": ".py",
   "mimetype": "text/x-python",
   "name": "python",
   "nbconvert_exporter": "python",
   "pygments_lexer": "ipython3",
   "version": "3.10.10"
  }
 },
 "nbformat": 4,
 "nbformat_minor": 5
}
